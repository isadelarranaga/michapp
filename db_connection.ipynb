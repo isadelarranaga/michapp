{
 "cells": [
  {
   "cell_type": "code",
   "execution_count": 2,
   "metadata": {},
   "outputs": [],
   "source": [
    "from pymongo import MongoClient\n",
    "import streamlit as st"
   ]
  },
  {
   "cell_type": "code",
   "execution_count": 3,
   "metadata": {},
   "outputs": [],
   "source": [
    "from pymongo import MongoClient\n",
    "\n",
    "# Connect to the MongoDB server (assuming default settings)\n",
    "client = MongoClient(\"mongodb://localhost:27017/\")\n",
    "\n",
    "# Create or access a database\n",
    "db = client[\"mydatabase\"]\n",
    "\n",
    "# Create or access a collection (equivalent to a table in SQL)\n",
    "collection = db[\"mycollection\"]\n",
    "\n"
   ]
  },
  {
   "cell_type": "code",
   "execution_count": 4,
   "metadata": {},
   "outputs": [
    {
     "name": "stdout",
     "output_type": "stream",
     "text": [
      "Inserted document ID: 67c0984f37f68648c431b41d\n",
      "Retrieved Document: {'_id': ObjectId('67bd0dfb5f622ac56f1e4c57'), 'name': 'Alice', 'age': 30, 'city': 'New York'}\n"
     ]
    }
   ],
   "source": [
    "# Insert a document\n",
    "sample_data = {\"name\": \"Alice\", \"age\": 30, \"city\": \"New York\"}\n",
    "insert_result = collection.insert_one(sample_data)\n",
    "print(f\"Inserted document ID: {insert_result.inserted_id}\")\n",
    "\n",
    "# Retrieve a document\n",
    "retrieved_doc = collection.find_one({\"name\": \"Alice\"})\n",
    "print(\"Retrieved Document:\", retrieved_doc)"
   ]
  },
  {
   "cell_type": "code",
   "execution_count": 6,
   "metadata": {},
   "outputs": [
    {
     "name": "stderr",
     "output_type": "stream",
     "text": [
      "2025-03-05 12:35:48.374 Thread 'MainThread': missing ScriptRunContext! This warning can be ignored when running in bare mode.\n",
      "2025-03-05 12:35:48.377 Thread 'MainThread': missing ScriptRunContext! This warning can be ignored when running in bare mode.\n"
     ]
    }
   ],
   "source": [
    "# Display Data from MongoDB\n",
    "st.subheader(\"Data from MongoDB:\")\n",
    "documents = collection.find()\n",
    "for doc in documents:\n",
    "    st.write(doc)"
   ]
  },
  {
   "cell_type": "code",
   "execution_count": 5,
   "metadata": {},
   "outputs": [],
   "source": [
    "client.close()"
   ]
  }
 ],
 "metadata": {
  "kernelspec": {
   "display_name": "michenv",
   "language": "python",
   "name": "python3"
  },
  "language_info": {
   "codemirror_mode": {
    "name": "ipython",
    "version": 3
   },
   "file_extension": ".py",
   "mimetype": "text/x-python",
   "name": "python",
   "nbconvert_exporter": "python",
   "pygments_lexer": "ipython3",
   "version": "3.13.1"
  }
 },
 "nbformat": 4,
 "nbformat_minor": 2
}
